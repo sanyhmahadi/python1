{
  "nbformat": 4,
  "nbformat_minor": 0,
  "metadata": {
    "colab": {
      "name": "python1.ipynb",
      "provenance": [],
      "collapsed_sections": [],
      "include_colab_link": true
    },
    "kernelspec": {
      "name": "python3",
      "display_name": "Python 3"
    }
  },
  "cells": [
    {
      "cell_type": "markdown",
      "metadata": {
        "id": "view-in-github",
        "colab_type": "text"
      },
      "source": [
        "<a href=\"https://colab.research.google.com/github/sanyhmahadi/python1/blob/main/python1.ipynb\" target=\"_parent\"><img src=\"https://colab.research.google.com/assets/colab-badge.svg\" alt=\"Open In Colab\"/></a>"
      ]
    },
    {
      "cell_type": "code",
      "metadata": {
        "colab": {
          "base_uri": "https://localhost:8080/"
        },
        "id": "-IQe2xDMJ5Iw",
        "outputId": "86983974-e20f-4e21-9879-6160da9087fb"
      },
      "source": [
        "print(\"Sany\")"
      ],
      "execution_count": null,
      "outputs": [
        {
          "output_type": "stream",
          "text": [
            "Sany\n"
          ],
          "name": "stdout"
        }
      ]
    },
    {
      "cell_type": "code",
      "metadata": {
        "id": "-YsHDIV8LelT",
        "outputId": "240ac659-95a6-48b8-8d84-86f2c2cb47cf",
        "colab": {
          "base_uri": "https://localhost:8080/"
        }
      },
      "source": [
        "a = 8;\r\n",
        "z = 9;\r\n",
        "print(a+z);"
      ],
      "execution_count": 1,
      "outputs": [
        {
          "output_type": "stream",
          "text": [
            "17\n"
          ],
          "name": "stdout"
        }
      ]
    },
    {
      "cell_type": "code",
      "metadata": {
        "id": "SNAnwN30EGvb",
        "outputId": "b54fa889-5576-4fb1-a030-28564edd6d23",
        "colab": {
          "base_uri": "https://localhost:8080/"
        }
      },
      "source": [
        "s1= 'I Love to '\r\n",
        "s2 = 'Travel'\r\n",
        "print(s1+s2)"
      ],
      "execution_count": 2,
      "outputs": [
        {
          "output_type": "stream",
          "text": [
            "I Love to Travel\n"
          ],
          "name": "stdout"
        }
      ]
    },
    {
      "cell_type": "code",
      "metadata": {
        "id": "k82CCxytEZDl",
        "outputId": "e7b11177-f3bc-4ff9-bef4-6a1631e60e01",
        "colab": {
          "base_uri": "https://localhost:8080/"
        }
      },
      "source": [
        "a = 80\r\n",
        "print(type(a));"
      ],
      "execution_count": 5,
      "outputs": [
        {
          "output_type": "stream",
          "text": [
            "<class 'int'>\n"
          ],
          "name": "stdout"
        }
      ]
    },
    {
      "cell_type": "code",
      "metadata": {
        "id": "o6-LoUjAFyDR",
        "outputId": "56796d80-1d23-4e8b-fcf2-c39e15a23a67",
        "colab": {
          "base_uri": "https://localhost:8080/"
        }
      },
      "source": [
        "print(10**10)\r\n",
        "print(10*2)\r\n",
        "print(10+10)\r\n",
        "print(10-5)\r\n"
      ],
      "execution_count": 8,
      "outputs": [
        {
          "output_type": "stream",
          "text": [
            "10000000000\n",
            "20\n",
            "20\n",
            "5\n"
          ],
          "name": "stdout"
        }
      ]
    },
    {
      "cell_type": "code",
      "metadata": {
        "id": "ctwKjXe3G4Ry",
        "outputId": "b7b8c491-242c-48b8-f5c6-70f2022f4a79",
        "colab": {
          "base_uri": "https://localhost:8080/"
        }
      },
      "source": [
        "print(10==10)\r\n",
        "print(10!=10)\r\n",
        "print(10<10)\r\n",
        "print(10>=10)\r\n",
        "print((10==10) and (10!=10))\r\n",
        "print((10==10) or (10!=10))"
      ],
      "execution_count": 13,
      "outputs": [
        {
          "output_type": "stream",
          "text": [
            "True\n",
            "False\n",
            "False\n",
            "True\n",
            "False\n",
            "True\n"
          ],
          "name": "stdout"
        }
      ]
    },
    {
      "cell_type": "code",
      "metadata": {
        "id": "BqJRjnA-G5y-",
        "outputId": "aa46153a-b40c-4b8d-a4b7-e1bd0c9fa3b3",
        "colab": {
          "base_uri": "https://localhost:8080/"
        }
      },
      "source": [
        "print(s2 in s1)\r\n",
        "print(s2 not in s1)"
      ],
      "execution_count": 15,
      "outputs": [
        {
          "output_type": "stream",
          "text": [
            "False\n",
            "True\n"
          ],
          "name": "stdout"
        }
      ]
    },
    {
      "cell_type": "code",
      "metadata": {
        "id": "9HJPuozFG6Kq",
        "outputId": "c51d8040-3a8c-408f-f7e0-65c8242e6b58",
        "colab": {
          "base_uri": "https://localhost:8080/"
        }
      },
      "source": [
        "a = input()\r\n",
        "b = int (input())\r\n",
        "c = float (input())\r\n",
        "print(a, b, c)"
      ],
      "execution_count": 18,
      "outputs": [
        {
          "output_type": "stream",
          "text": [
            "I love to travel\n",
            "5\n",
            "5.5\n",
            "I love to travel 5 5.5\n"
          ],
          "name": "stdout"
        }
      ]
    }
  ]
}