{
  "nbformat": 4,
  "nbformat_minor": 0,
  "metadata": {
    "colab": {
      "name": "python1.ipynb",
      "provenance": [],
      "collapsed_sections": [],
      "authorship_tag": "ABX9TyPDAb9bMAiUoiSx9E7vX3zd",
      "include_colab_link": true
    },
    "kernelspec": {
      "name": "python3",
      "display_name": "Python 3"
    }
  },
  "cells": [
    {
      "cell_type": "markdown",
      "metadata": {
        "id": "view-in-github",
        "colab_type": "text"
      },
      "source": [
        "<a href=\"https://colab.research.google.com/github/sanyhmahadi/python1/blob/main/python1.ipynb\" target=\"_parent\"><img src=\"https://colab.research.google.com/assets/colab-badge.svg\" alt=\"Open In Colab\"/></a>"
      ]
    },
    {
      "cell_type": "code",
      "metadata": {
        "id": "-IQe2xDMJ5Iw"
      },
      "source": [
        "print(\"Sany\")"
      ],
      "execution_count": null,
      "outputs": []
    },
    {
      "cell_type": "code",
      "metadata": {
        "id": "-YsHDIV8LelT",
        "colab": {
          "base_uri": "https://localhost:8080/",
          "height": 52
        },
        "outputId": "6e86bcd1-e107-40df-ce85-56d76797ba7d"
      },
      "source": [
        "si = \"Dhaka is the  capital of Bangladesh\"\r\n",
        "print(len(si))\r\n",
        "si[0]"
      ],
      "execution_count": null,
      "outputs": [
        {
          "output_type": "stream",
          "text": [
            "35\n"
          ],
          "name": "stdout"
        },
        {
          "output_type": "execute_result",
          "data": {
            "application/vnd.google.colaboratory.intrinsic+json": {
              "type": "string"
            },
            "text/plain": [
              "'D'"
            ]
          },
          "metadata": {
            "tags": []
          },
          "execution_count": 6
        }
      ]
    },
    {
      "cell_type": "code",
      "metadata": {
        "colab": {
          "base_uri": "https://localhost:8080/",
          "height": 35
        },
        "id": "_Jh-VxE6PZx8",
        "outputId": "3dd2fe23-a180-4b60-e01a-95cb9bee749f"
      },
      "source": [
        "si[-12]"
      ],
      "execution_count": null,
      "outputs": [
        {
          "output_type": "execute_result",
          "data": {
            "application/vnd.google.colaboratory.intrinsic+json": {
              "type": "string"
            },
            "text/plain": [
              "'f'"
            ]
          },
          "metadata": {
            "tags": []
          },
          "execution_count": 8
        }
      ]
    },
    {
      "cell_type": "code",
      "metadata": {
        "id": "ZSPnAo_VQUpG"
      },
      "source": [
        "si[1:-8]"
      ],
      "execution_count": null,
      "outputs": []
    },
    {
      "cell_type": "code",
      "metadata": {
        "colab": {
          "base_uri": "https://localhost:8080/"
        },
        "id": "okk-sP74T70s",
        "outputId": "6ee55466-b9b2-4022-92bb-bbac7b5093b2"
      },
      "source": [
        "def sum(a,b):\r\n",
        "  c = a+b\r\n",
        "  return c\r\n",
        "a = int(input(\"Enter your number: \"))\r\n",
        "b = int(input(\"Enter 2nd number: \"))\r\n",
        "d = sum(a,b)\r\n",
        "print(\"The sum is : \",d)"
      ],
      "execution_count": null,
      "outputs": [
        {
          "output_type": "stream",
          "text": [
            "Enter your number: 5\n",
            "Enter 2nd number: 5\n",
            "The sum is :  10\n"
          ],
          "name": "stdout"
        }
      ]
    },
    {
      "cell_type": "code",
      "metadata": {
        "id": "80f454BhVp1y"
      },
      "source": [
        "def divisor(x,y,m):\r\n",
        "  if x%m==0 and y%m==0:\r\n",
        "    print(\"%d & %d are divide by %d\"%(x,y,m))\r\n",
        "  elif x%m == 0:\r\n",
        "    print(\"only %d is divided by %d\"%(x,m))\r\n",
        "  elif y%m == 0:\r\n",
        "    print(\"only %d is divided by %d\"%(y,m))\r\n",
        "  else:\r\n",
        "    print(\"none of %d & %d is divisible %d\"%(x,y,m))\r\n",
        "\r\n"
      ],
      "execution_count": null,
      "outputs": []
    },
    {
      "cell_type": "code",
      "metadata": {
        "colab": {
          "base_uri": "https://localhost:8080/"
        },
        "id": "OAIVEpGcXmkM",
        "outputId": "d366b5a8-5a7f-447d-b75e-e9cc63e81953"
      },
      "source": [
        "divisor(10,20,5)\r\n",
        "divisor(12,20,5)\r\n",
        "divisor(10,22,5)\r\n",
        "divisor(2,5,3)"
      ],
      "execution_count": null,
      "outputs": [
        {
          "output_type": "stream",
          "text": [
            "10 & 20 are divide by 5\n",
            "only 20 is divided by 5\n",
            "only 10 is divided by 5\n",
            "none of 2 & 5 is divisible 3\n"
          ],
          "name": "stdout"
        }
      ]
    },
    {
      "cell_type": "code",
      "metadata": {
        "colab": {
          "base_uri": "https://localhost:8080/"
        },
        "id": "D7gyX17pZHCV",
        "outputId": "0e750808-f730-4e5f-9120-65564cd3fac1"
      },
      "source": [
        "def sum():\r\n",
        "  a = 3+8\r\n",
        "  return a\r\n",
        "b = sum()\r\n",
        "print(b)\r\n"
      ],
      "execution_count": null,
      "outputs": [
        {
          "output_type": "stream",
          "text": [
            "11\n"
          ],
          "name": "stdout"
        }
      ]
    },
    {
      "cell_type": "code",
      "metadata": {
        "id": "Hgh5Ht4rZT6I"
      },
      "source": [
        "def check(a=0):\r\n",
        "  if a==0:\r\n",
        "    print(\"zero\")\r\n",
        "  elif a>0:\r\n",
        "    print(\"positive\")\r\n",
        "  else:\r\n",
        "    print(\"negative\")"
      ],
      "execution_count": null,
      "outputs": []
    },
    {
      "cell_type": "code",
      "metadata": {
        "id": "W78rvGUyZwvh"
      },
      "source": [
        "check()\r\n",
        "check(-4)\r\n",
        "check(4)\r\n",
        "\r\n"
      ],
      "execution_count": null,
      "outputs": []
    },
    {
      "cell_type": "code",
      "metadata": {
        "id": "Fg4OmXDzdYnj"
      },
      "source": [
        ""
      ],
      "execution_count": null,
      "outputs": []
    },
    {
      "cell_type": "code",
      "metadata": {
        "colab": {
          "base_uri": "https://localhost:8080/"
        },
        "id": "xuNO0KbabNjP",
        "outputId": "b7b36d15-871b-486c-a77e-6218959dfbfb"
      },
      "source": [
        "def local_scope():\r\n",
        "  a=7\r\n",
        "  print(a)\r\n",
        "\r\n",
        "\r\n",
        "local_scope()\r\n",
        "print(a)"
      ],
      "execution_count": null,
      "outputs": [
        {
          "output_type": "stream",
          "text": [
            "7\n",
            "None\n"
          ],
          "name": "stdout"
        }
      ]
    },
    {
      "cell_type": "code",
      "metadata": {
        "colab": {
          "base_uri": "https://localhost:8080/"
        },
        "id": "CSYGBo1Nbmzz",
        "outputId": "53ce8c25-e95a-42f6-ede2-21607e0510cb"
      },
      "source": [
        "def global_scope():\r\n",
        "  global x\r\n",
        "  x = 10\r\n",
        "global_scope()\r\n",
        "print(x)"
      ],
      "execution_count": null,
      "outputs": [
        {
          "output_type": "stream",
          "text": [
            "10\n"
          ],
          "name": "stdout"
        }
      ]
    }
  ]
}