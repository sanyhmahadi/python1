{
  "nbformat": 4,
  "nbformat_minor": 0,
  "metadata": {
    "colab": {
      "name": "python1.ipynb",
      "provenance": [],
      "collapsed_sections": [],
      "authorship_tag": "ABX9TyMKZe6jUeS/U1J+1gIVG+vq",
      "include_colab_link": true
    },
    "kernelspec": {
      "name": "python3",
      "display_name": "Python 3"
    }
  },
  "cells": [
    {
      "cell_type": "markdown",
      "metadata": {
        "id": "view-in-github",
        "colab_type": "text"
      },
      "source": [
        "<a href=\"https://colab.research.google.com/github/sanyhmahadi/python1/blob/main/python1.ipynb\" target=\"_parent\"><img src=\"https://colab.research.google.com/assets/colab-badge.svg\" alt=\"Open In Colab\"/></a>"
      ]
    },
    {
      "cell_type": "code",
      "metadata": {
        "id": "-IQe2xDMJ5Iw"
      },
      "source": [
        "print(\"Sany\")"
      ],
      "execution_count": null,
      "outputs": []
    },
    {
      "cell_type": "code",
      "metadata": {
        "id": "2D2EJZrJSGPE"
      },
      "source": [
        ""
      ],
      "execution_count": null,
      "outputs": []
    },
    {
      "cell_type": "code",
      "metadata": {
        "id": "-YsHDIV8LelT",
        "colab": {
          "base_uri": "https://localhost:8080/",
          "height": 52
        },
        "outputId": "6e86bcd1-e107-40df-ce85-56d76797ba7d"
      },
      "source": [
        "si = \"Dhaka is the  capital of Bangladesh\"\r\n",
        "print(len(si))\r\n",
        "si[0]"
      ],
      "execution_count": null,
      "outputs": [
        {
          "output_type": "stream",
          "text": [
            "35\n"
          ],
          "name": "stdout"
        },
        {
          "output_type": "execute_result",
          "data": {
            "application/vnd.google.colaboratory.intrinsic+json": {
              "type": "string"
            },
            "text/plain": [
              "'D'"
            ]
          },
          "metadata": {
            "tags": []
          },
          "execution_count": 6
        }
      ]
    },
    {
      "cell_type": "code",
      "metadata": {
        "colab": {
          "base_uri": "https://localhost:8080/",
          "height": 35
        },
        "id": "_Jh-VxE6PZx8",
        "outputId": "3dd2fe23-a180-4b60-e01a-95cb9bee749f"
      },
      "source": [
        "si[-12]"
      ],
      "execution_count": null,
      "outputs": [
        {
          "output_type": "execute_result",
          "data": {
            "application/vnd.google.colaboratory.intrinsic+json": {
              "type": "string"
            },
            "text/plain": [
              "'f'"
            ]
          },
          "metadata": {
            "tags": []
          },
          "execution_count": 8
        }
      ]
    },
    {
      "cell_type": "code",
      "metadata": {
        "id": "ZSPnAo_VQUpG"
      },
      "source": [
        "si[1:-8]"
      ],
      "execution_count": null,
      "outputs": []
    },
    {
      "cell_type": "code",
      "metadata": {
        "colab": {
          "base_uri": "https://localhost:8080/"
        },
        "id": "okk-sP74T70s",
        "outputId": "6ee55466-b9b2-4022-92bb-bbac7b5093b2"
      },
      "source": [
        "def sum(a,b):\r\n",
        "  c = a+b\r\n",
        "  return c\r\n",
        "a = int(input(\"Enter your number: \"))\r\n",
        "b = int(input(\"Enter 2nd number: \"))\r\n",
        "d = sum(a,b)\r\n",
        "print(\"The sum is : \",d)"
      ],
      "execution_count": null,
      "outputs": [
        {
          "output_type": "stream",
          "text": [
            "Enter your number: 5\n",
            "Enter 2nd number: 5\n",
            "The sum is :  10\n"
          ],
          "name": "stdout"
        }
      ]
    },
    {
      "cell_type": "code",
      "metadata": {
        "id": "80f454BhVp1y"
      },
      "source": [
        "def divisor(x,y,m):\r\n",
        "  if x%m==0 and y%m==0:\r\n",
        "    print(\"%d & %d are divide by %d\"%(x,y,m))\r\n",
        "  elif x%m == 0:\r\n",
        "    print(\"only %d is divided by %d\"%(x,m))\r\n",
        "  elif y%m == 0:\r\n",
        "    print(\"only %d is divided by %d\"%(y,m))\r\n",
        "  else:\r\n",
        "    print(\"none of %d & %d is divisible %d\"%(x,y,m))\r\n",
        "\r\n"
      ],
      "execution_count": null,
      "outputs": []
    },
    {
      "cell_type": "code",
      "metadata": {
        "colab": {
          "base_uri": "https://localhost:8080/"
        },
        "id": "OAIVEpGcXmkM",
        "outputId": "d366b5a8-5a7f-447d-b75e-e9cc63e81953"
      },
      "source": [
        "divisor(10,20,5)\r\n",
        "divisor(12,20,5)\r\n",
        "divisor(10,22,5)\r\n",
        "divisor(2,5,3)"
      ],
      "execution_count": null,
      "outputs": [
        {
          "output_type": "stream",
          "text": [
            "10 & 20 are divide by 5\n",
            "only 20 is divided by 5\n",
            "only 10 is divided by 5\n",
            "none of 2 & 5 is divisible 3\n"
          ],
          "name": "stdout"
        }
      ]
    },
    {
      "cell_type": "code",
      "metadata": {
        "colab": {
          "base_uri": "https://localhost:8080/"
        },
        "id": "D7gyX17pZHCV",
        "outputId": "0e750808-f730-4e5f-9120-65564cd3fac1"
      },
      "source": [
        "def sum():\r\n",
        "  a = 3+8\r\n",
        "  return a\r\n",
        "b = sum()\r\n",
        "print(b)\r\n"
      ],
      "execution_count": null,
      "outputs": [
        {
          "output_type": "stream",
          "text": [
            "11\n"
          ],
          "name": "stdout"
        }
      ]
    },
    {
      "cell_type": "code",
      "metadata": {
        "id": "Hgh5Ht4rZT6I"
      },
      "source": [
        "def check(a=0):\r\n",
        "  if a==0:\r\n",
        "    print(\"zero\")\r\n",
        "  elif a>0:\r\n",
        "    print(\"positive\")\r\n",
        "  else:\r\n",
        "    print(\"negative\")"
      ],
      "execution_count": null,
      "outputs": []
    },
    {
      "cell_type": "code",
      "metadata": {
        "id": "W78rvGUyZwvh"
      },
      "source": [
        "check()\r\n",
        "check(-4)\r\n",
        "check(4)\r\n",
        "\r\n"
      ],
      "execution_count": null,
      "outputs": []
    },
    {
      "cell_type": "code",
      "metadata": {
        "id": "Fg4OmXDzdYnj"
      },
      "source": [
        ""
      ],
      "execution_count": null,
      "outputs": []
    },
    {
      "cell_type": "code",
      "metadata": {
        "colab": {
          "base_uri": "https://localhost:8080/"
        },
        "id": "xuNO0KbabNjP",
        "outputId": "b7b36d15-871b-486c-a77e-6218959dfbfb"
      },
      "source": [
        "def local_scope():\r\n",
        "  a=7\r\n",
        "  print(a)\r\n",
        "\r\n",
        "\r\n",
        "local_scope()\r\n",
        "print(a)"
      ],
      "execution_count": null,
      "outputs": [
        {
          "output_type": "stream",
          "text": [
            "7\n",
            "None\n"
          ],
          "name": "stdout"
        }
      ]
    },
    {
      "cell_type": "code",
      "metadata": {
        "colab": {
          "base_uri": "https://localhost:8080/"
        },
        "id": "CSYGBo1Nbmzz",
        "outputId": "53ce8c25-e95a-42f6-ede2-21607e0510cb"
      },
      "source": [
        "def global_scope():\r\n",
        "  global x\r\n",
        "  x = 10\r\n",
        "global_scope()\r\n",
        "print(x)"
      ],
      "execution_count": null,
      "outputs": [
        {
          "output_type": "stream",
          "text": [
            "10\n"
          ],
          "name": "stdout"
        }
      ]
    },
    {
      "cell_type": "code",
      "metadata": {
        "id": "4sRZ83cgSHxK",
        "colab": {
          "base_uri": "https://localhost:8080/"
        },
        "outputId": "6c045cf2-cd0b-45ad-f64d-828c5f80c07b"
      },
      "source": [
        "#creating list\r\n",
        "list0=[1,2,3,32,2.23,43.23,\"python\",[2,32,3]]\r\n",
        "print(list0)"
      ],
      "execution_count": null,
      "outputs": [
        {
          "output_type": "stream",
          "text": [
            "[1, 2, 3, 32, 2.23, 43.23, 'python', [2, 32, 3]]\n"
          ],
          "name": "stdout"
        }
      ]
    },
    {
      "cell_type": "code",
      "metadata": {
        "id": "th2fr0NKSwvO",
        "colab": {
          "base_uri": "https://localhost:8080/"
        },
        "outputId": "bda19b39-e4fb-4a4b-db10-e3ff91d78f77"
      },
      "source": [
        "list0=[1,2,3,32,2.23,43.23,\"python\",[2,32,3]]\r\n",
        "for i in list0:\r\n",
        "  print(i,end='')\r\n",
        "print('')"
      ],
      "execution_count": null,
      "outputs": [
        {
          "output_type": "stream",
          "text": [
            "123322.2343.23python[2, 32, 3]\n"
          ],
          "name": "stdout"
        }
      ]
    },
    {
      "cell_type": "code",
      "metadata": {
        "id": "nWnyN8BXUHis",
        "outputId": "43794234-ce46-4cfc-ede2-c0d70d1e0b6d",
        "colab": {
          "base_uri": "https://localhost:8080/"
        }
      },
      "source": [
        "tp0=[1,2,3,32,2.23,43.23,\"python\",[2,32,3]]\r\n",
        "print(tp0)\r\n",
        "tp1=()\r\n",
        "print(tp1)\r\n",
        "tp2=tuple()\r\n",
        "print(tp2)\r\n"
      ],
      "execution_count": 1,
      "outputs": [
        {
          "output_type": "stream",
          "text": [
            "[1, 2, 3, 32, 2.23, 43.23, 'python', [2, 32, 3]]\n",
            "()\n",
            "()\n"
          ],
          "name": "stdout"
        }
      ]
    },
    {
      "cell_type": "code",
      "metadata": {
        "id": "JGCBCY3mVlzu"
      },
      "source": [
        "#create base class\r\n",
        "class Ball():\r\n",
        "  def __init__ (self):\r\n",
        "    print(f'Ball created!')\r\n",
        "  def Who_am_i(self):\r\n",
        "    print(f'iam ball')"
      ],
      "execution_count": null,
      "outputs": []
    },
    {
      "cell_type": "code",
      "metadata": {
        "id": "CVTbWOdEV999"
      },
      "source": [
        "#create a child (football) class\r\n",
        "class Football(Ball):\r\n",
        "  def __init__ (self):\r\n",
        "    Ball. __init__(self)\r\n",
        "    print((f'Football created'))"
      ],
      "execution_count": null,
      "outputs": []
    },
    {
      "cell_type": "code",
      "metadata": {
        "id": "ByR8aqEHW0H1",
        "colab": {
          "base_uri": "https://localhost:8080/"
        },
        "outputId": "6f7d5d76-86f5-4d1e-8ba3-d7487db2d92a"
      },
      "source": [
        "myFootball = Football()"
      ],
      "execution_count": null,
      "outputs": [
        {
          "output_type": "stream",
          "text": [
            "Ball created!\n",
            "Football created\n"
          ],
          "name": "stdout"
        }
      ]
    },
    {
      "cell_type": "code",
      "metadata": {
        "id": "3SN49xo0X28f",
        "colab": {
          "base_uri": "https://localhost:8080/"
        },
        "outputId": "eb94ef4b-b75e-4e62-b2cc-2bcf6b9fc575"
      },
      "source": [
        "myFootball.Who_am_i()"
      ],
      "execution_count": null,
      "outputs": [
        {
          "output_type": "stream",
          "text": [
            "iam ball\n"
          ],
          "name": "stdout"
        }
      ]
    },
    {
      "cell_type": "code",
      "metadata": {
        "id": "mO6k164CYj4r"
      },
      "source": [
        "#create overriding\r\n",
        "class Football(Ball):\r\n",
        "  def __init__ (self):\r\n",
        "    Ball. __init__(self)\r\n",
        "    print((f'Football created'))"
      ],
      "execution_count": null,
      "outputs": []
    },
    {
      "cell_type": "code",
      "metadata": {
        "id": "QWST3evdYqwP"
      },
      "source": [
        "#override\r\n",
        "def Who_am_i(self):\r\n",
        "  print(f'im fotball')"
      ],
      "execution_count": null,
      "outputs": []
    },
    {
      "cell_type": "code",
      "metadata": {
        "id": "GF8cUKLbY7Bx",
        "colab": {
          "base_uri": "https://localhost:8080/"
        },
        "outputId": "7015222b-6e1c-488a-d472-a43a53a47a50"
      },
      "source": [
        "#object\r\n",
        "myFootball = Football()"
      ],
      "execution_count": null,
      "outputs": [
        {
          "output_type": "stream",
          "text": [
            "Ball created!\n",
            "Football created\n"
          ],
          "name": "stdout"
        }
      ]
    },
    {
      "cell_type": "code",
      "metadata": {
        "id": "4wnszZMAZDm6",
        "colab": {
          "base_uri": "https://localhost:8080/"
        },
        "outputId": "256dff05-f7bf-4ab7-b443-240a6e3196f5"
      },
      "source": [
        "myFootball.Who_am_i()"
      ],
      "execution_count": null,
      "outputs": [
        {
          "output_type": "stream",
          "text": [
            "iam ball\n"
          ],
          "name": "stdout"
        }
      ]
    },
    {
      "cell_type": "code",
      "metadata": {
        "id": "lh90LiNsa6nZ",
        "colab": {
          "base_uri": "https://localhost:8080/"
        },
        "outputId": "604be15d-a820-4000-b3bc-c6aa4ca75d3b"
      },
      "source": [
        "import numpy as np\r\n",
        "numbers = np.array([2,3,7,11])\r\n",
        "numbers"
      ],
      "execution_count": null,
      "outputs": [
        {
          "output_type": "execute_result",
          "data": {
            "text/plain": [
              "array([ 2,  3,  7, 11])"
            ]
          },
          "metadata": {
            "tags": []
          },
          "execution_count": 40
        }
      ]
    },
    {
      "cell_type": "code",
      "metadata": {
        "id": "AkCamS-gbVaX",
        "colab": {
          "base_uri": "https://localhost:8080/"
        },
        "outputId": "479ad119-629d-4d1c-948f-3b05f80dc8b7"
      },
      "source": [
        "rows, cols = (5, 5) \r\n",
        "arr = [[0 for i in range(cols)] for j in range(rows)] \r\n",
        "print(arr) "
      ],
      "execution_count": null,
      "outputs": [
        {
          "output_type": "stream",
          "text": [
            "[[0, 0, 0, 0, 0], [0, 0, 0, 0, 0], [0, 0, 0, 0, 0], [0, 0, 0, 0, 0], [0, 0, 0, 0, 0]]\n"
          ],
          "name": "stdout"
        }
      ]
    }
  ]
}